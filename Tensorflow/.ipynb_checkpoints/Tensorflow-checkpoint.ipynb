{
 "cells": [
  {
   "cell_type": "code",
   "execution_count": 1,
   "metadata": {
    "collapsed": true
   },
   "outputs": [],
   "source": [
    "import tensorflow   as tf"
   ]
  },
  {
   "cell_type": "code",
   "execution_count": 3,
   "metadata": {
    "collapsed": true
   },
   "outputs": [],
   "source": [
    "import numpy as np\n",
    "x=np.linspace(-3.0,3.0,100)"
   ]
  },
  {
   "cell_type": "code",
   "execution_count": 5,
   "metadata": {},
   "outputs": [
    {
     "name": "stdout",
     "output_type": "stream",
     "text": [
      "[-3.         -2.93939394 -2.87878788 -2.81818182 -2.75757576 -2.6969697\n",
      " -2.63636364 -2.57575758 -2.51515152 -2.45454545 -2.39393939 -2.33333333\n",
      " -2.27272727 -2.21212121 -2.15151515 -2.09090909 -2.03030303 -1.96969697\n",
      " -1.90909091 -1.84848485 -1.78787879 -1.72727273 -1.66666667 -1.60606061\n",
      " -1.54545455 -1.48484848 -1.42424242 -1.36363636 -1.3030303  -1.24242424\n",
      " -1.18181818 -1.12121212 -1.06060606 -1.         -0.93939394 -0.87878788\n",
      " -0.81818182 -0.75757576 -0.6969697  -0.63636364 -0.57575758 -0.51515152\n",
      " -0.45454545 -0.39393939 -0.33333333 -0.27272727 -0.21212121 -0.15151515\n",
      " -0.09090909 -0.03030303  0.03030303  0.09090909  0.15151515  0.21212121\n",
      "  0.27272727  0.33333333  0.39393939  0.45454545  0.51515152  0.57575758\n",
      "  0.63636364  0.6969697   0.75757576  0.81818182  0.87878788  0.93939394\n",
      "  1.          1.06060606  1.12121212  1.18181818  1.24242424  1.3030303\n",
      "  1.36363636  1.42424242  1.48484848  1.54545455  1.60606061  1.66666667\n",
      "  1.72727273  1.78787879  1.84848485  1.90909091  1.96969697  2.03030303\n",
      "  2.09090909  2.15151515  2.21212121  2.27272727  2.33333333  2.39393939\n",
      "  2.45454545  2.51515152  2.57575758  2.63636364  2.6969697   2.75757576\n",
      "  2.81818182  2.87878788  2.93939394  3.        ]\n"
     ]
    }
   ],
   "source": [
    "print(x)"
   ]
  },
  {
   "cell_type": "code",
   "execution_count": 6,
   "metadata": {},
   "outputs": [
    {
     "name": "stdout",
     "output_type": "stream",
     "text": [
      "(100,)\n"
     ]
    }
   ],
   "source": [
    "print(x.shape)"
   ]
  },
  {
   "cell_type": "code",
   "execution_count": 7,
   "metadata": {},
   "outputs": [
    {
     "name": "stdout",
     "output_type": "stream",
     "text": [
      "float64\n"
     ]
    }
   ],
   "source": [
    "print(x.dtype)"
   ]
  },
  {
   "cell_type": "code",
   "execution_count": 8,
   "metadata": {
    "collapsed": true
   },
   "outputs": [],
   "source": [
    "x=tf.linspace(-3.0,3.0,100)"
   ]
  },
  {
   "cell_type": "code",
   "execution_count": 9,
   "metadata": {},
   "outputs": [
    {
     "name": "stdout",
     "output_type": "stream",
     "text": [
      "Tensor(\"LinSpace:0\", shape=(100,), dtype=float32)\n"
     ]
    }
   ],
   "source": [
    "print(x)"
   ]
  },
  {
   "cell_type": "code",
   "execution_count": 10,
   "metadata": {
    "collapsed": true
   },
   "outputs": [],
   "source": [
    "g=tf.get_default_graph()"
   ]
  },
  {
   "cell_type": "code",
   "execution_count": 11,
   "metadata": {},
   "outputs": [
    {
     "data": {
      "text/plain": [
       "<tensorflow.python.framework.ops.Graph at 0x7f0a49544b00>"
      ]
     },
     "execution_count": 11,
     "metadata": {},
     "output_type": "execute_result"
    }
   ],
   "source": [
    "g"
   ]
  },
  {
   "cell_type": "code",
   "execution_count": 12,
   "metadata": {},
   "outputs": [
    {
     "data": {
      "text/plain": [
       "['LinSpace/start', 'LinSpace/stop', 'LinSpace/num', 'LinSpace']"
      ]
     },
     "execution_count": 12,
     "metadata": {},
     "output_type": "execute_result"
    }
   ],
   "source": [
    "[op.name  for op in  g.get_operations()]"
   ]
  },
  {
   "cell_type": "code",
   "execution_count": 13,
   "metadata": {},
   "outputs": [
    {
     "data": {
      "text/plain": [
       "<tf.Tensor 'LinSpace:0' shape=(100,) dtype=float32>"
      ]
     },
     "execution_count": 13,
     "metadata": {},
     "output_type": "execute_result"
    }
   ],
   "source": [
    "g.get_tensor_by_name('LinSpace'+':0')"
   ]
  },
  {
   "cell_type": "code",
   "execution_count": 14,
   "metadata": {
    "collapsed": true
   },
   "outputs": [],
   "source": [
    "sess=tf.Session()"
   ]
  },
  {
   "cell_type": "code",
   "execution_count": 15,
   "metadata": {
    "collapsed": true
   },
   "outputs": [],
   "source": [
    "computed_x=sess.run(x)"
   ]
  },
  {
   "cell_type": "code",
   "execution_count": 16,
   "metadata": {},
   "outputs": [
    {
     "name": "stdout",
     "output_type": "stream",
     "text": [
      "[-3.         -2.939394   -2.87878799 -2.81818175 -2.75757575 -2.69696975\n",
      " -2.63636351 -2.5757575  -2.5151515  -2.4545455  -2.3939395  -2.33333325\n",
      " -2.27272725 -2.21212125 -2.15151501 -2.090909   -2.030303   -1.969697\n",
      " -1.90909088 -1.84848475 -1.78787875 -1.72727275 -1.66666663 -1.6060605\n",
      " -1.5454545  -1.4848485  -1.42424238 -1.36363626 -1.30303025 -1.24242425\n",
      " -1.18181813 -1.12121201 -1.060606   -1.         -0.939394   -0.87878776\n",
      " -0.81818175 -0.75757575 -0.69696951 -0.63636351 -0.5757575  -0.5151515\n",
      " -0.4545455  -0.39393926 -0.33333325 -0.27272725 -0.21212101 -0.15151501\n",
      " -0.090909   -0.030303    0.030303    0.09090924  0.15151525  0.21212125\n",
      "  0.27272749  0.33333349  0.3939395   0.4545455   0.5151515   0.57575774\n",
      "  0.63636374  0.69696975  0.75757599  0.81818199  0.87878799  0.939394    1.\n",
      "  1.060606    1.12121201  1.18181849  1.24242449  1.30303049  1.36363649\n",
      "  1.4242425   1.4848485   1.5454545   1.60606098  1.66666698  1.72727299\n",
      "  1.78787899  1.84848499  1.909091    1.969697    2.030303    2.090909\n",
      "  2.15151548  2.21212149  2.27272749  2.33333349  2.3939395   2.4545455\n",
      "  2.5151515   2.57575798  2.63636398  2.69696999  2.75757599  2.81818199\n",
      "  2.87878799  2.939394    3.        ]\n"
     ]
    }
   ],
   "source": [
    "print(computed_x)"
   ]
  },
  {
   "cell_type": "code",
   "execution_count": 17,
   "metadata": {
    "collapsed": true
   },
   "outputs": [],
   "source": [
    "computed_x=x.eval(session=sess)"
   ]
  },
  {
   "cell_type": "code",
   "execution_count": 18,
   "metadata": {},
   "outputs": [
    {
     "data": {
      "text/plain": [
       "array([-3.        , -2.939394  , -2.87878799, -2.81818175, -2.75757575,\n",
       "       -2.69696975, -2.63636351, -2.5757575 , -2.5151515 , -2.4545455 ,\n",
       "       -2.3939395 , -2.33333325, -2.27272725, -2.21212125, -2.15151501,\n",
       "       -2.090909  , -2.030303  , -1.969697  , -1.90909088, -1.84848475,\n",
       "       -1.78787875, -1.72727275, -1.66666663, -1.6060605 , -1.5454545 ,\n",
       "       -1.4848485 , -1.42424238, -1.36363626, -1.30303025, -1.24242425,\n",
       "       -1.18181813, -1.12121201, -1.060606  , -1.        , -0.939394  ,\n",
       "       -0.87878776, -0.81818175, -0.75757575, -0.69696951, -0.63636351,\n",
       "       -0.5757575 , -0.5151515 , -0.4545455 , -0.39393926, -0.33333325,\n",
       "       -0.27272725, -0.21212101, -0.15151501, -0.090909  , -0.030303  ,\n",
       "        0.030303  ,  0.09090924,  0.15151525,  0.21212125,  0.27272749,\n",
       "        0.33333349,  0.3939395 ,  0.4545455 ,  0.5151515 ,  0.57575774,\n",
       "        0.63636374,  0.69696975,  0.75757599,  0.81818199,  0.87878799,\n",
       "        0.939394  ,  1.        ,  1.060606  ,  1.12121201,  1.18181849,\n",
       "        1.24242449,  1.30303049,  1.36363649,  1.4242425 ,  1.4848485 ,\n",
       "        1.5454545 ,  1.60606098,  1.66666698,  1.72727299,  1.78787899,\n",
       "        1.84848499,  1.909091  ,  1.969697  ,  2.030303  ,  2.090909  ,\n",
       "        2.15151548,  2.21212149,  2.27272749,  2.33333349,  2.3939395 ,\n",
       "        2.4545455 ,  2.5151515 ,  2.57575798,  2.63636398,  2.69696999,\n",
       "        2.75757599,  2.81818199,  2.87878799,  2.939394  ,  3.        ], dtype=float32)"
      ]
     },
     "execution_count": 18,
     "metadata": {},
     "output_type": "execute_result"
    }
   ],
   "source": [
    "computed_x"
   ]
  },
  {
   "cell_type": "code",
   "execution_count": 19,
   "metadata": {
    "collapsed": true
   },
   "outputs": [],
   "source": [
    "sess.close()"
   ]
  },
  {
   "cell_type": "code",
   "execution_count": 21,
   "metadata": {
    "collapsed": true
   },
   "outputs": [],
   "source": [
    "g2=tf.Graph()"
   ]
  },
  {
   "cell_type": "code",
   "execution_count": 22,
   "metadata": {
    "collapsed": true
   },
   "outputs": [],
   "source": [
    "sess=tf.Session(graph=g2)"
   ]
  },
  {
   "cell_type": "code",
   "execution_count": 23,
   "metadata": {
    "collapsed": true
   },
   "outputs": [],
   "source": [
    " sess=tf.InteractiveSession()"
   ]
  },
  {
   "cell_type": "code",
   "execution_count": 26,
   "metadata": {},
   "outputs": [
    {
     "data": {
      "text/plain": [
       "-2.939394"
      ]
     },
     "execution_count": 26,
     "metadata": {},
     "output_type": "execute_result"
    }
   ],
   "source": [
    "x.eval()[1]"
   ]
  },
  {
   "cell_type": "code",
   "execution_count": 31,
   "metadata": {
    "collapsed": true
   },
   "outputs": [],
   "source": [
    "mean=0"
   ]
  },
  {
   "cell_type": "code",
   "execution_count": 33,
   "metadata": {
    "collapsed": true
   },
   "outputs": [],
   "source": [
    "sigma=1.0"
   ]
  },
  {
   "cell_type": "code",
   "execution_count": 35,
   "metadata": {
    "collapsed": true
   },
   "outputs": [],
   "source": [
    "z=tf.exp(tf.negative(tf.pow(x-mean,2.0)/\n",
    "                (2.0*tf.pow(sigma,2.0))))*(1.0/(sigma*tf.sqrt(2.0*3.1415)))"
   ]
  },
  {
   "cell_type": "code",
   "execution_count": 40,
   "metadata": {},
   "outputs": [
    {
     "name": "stdout",
     "output_type": "stream",
     "text": [
      "Using matplotlib backend: Qt5Agg\n",
      "Populating the interactive namespace from numpy and matplotlib\n"
     ]
    }
   ],
   "source": [
    "res=z.eval()\n",
    "%pylab"
   ]
  },
  {
   "cell_type": "code",
   "execution_count": 42,
   "metadata": {},
   "outputs": [
    {
     "data": {
      "text/plain": [
       "[<matplotlib.lines.Line2D at 0x7f0a20f96978>]"
      ]
     },
     "execution_count": 42,
     "metadata": {},
     "output_type": "execute_result"
    },
    {
     "data": {
      "image/png": "[encoded data removed]",
      "text/plain": [
       "<matplotlib.figure.Figure at 0x7f0a21026390>"
      ]
     },
     "metadata": {},
     "output_type": "display_data"
    }
   ],
   "source": [
    "import  matplotlib \n",
    "%matplotlib inline\n",
    "plt.style.use('ggplot')\n",
    "\n",
    "plt.plot(res)"
   ]
  },
  {
   "cell_type": "code",
   "execution_count": 43,
   "metadata": {
    "collapsed": true
   },
   "outputs": [],
   "source": [
    "ksize=z.get_shape().as_list()[0]"
   ]
  },
  {
   "cell_type": "code",
   "execution_count": 44,
   "metadata": {},
   "outputs": [
    {
     "data": {
      "text/plain": [
       "100"
      ]
     },
     "execution_count": 44,
     "metadata": {},
     "output_type": "execute_result"
    }
   ],
   "source": [
    "ksize"
   ]
  },
  {
   "cell_type": "code",
   "execution_count": 45,
   "metadata": {
    "collapsed": true
   },
   "outputs": [],
   "source": [
    "z_2d=tf.matmul(tf.reshape(z,[ksize,1]),tf.reshape(z,[1,ksize]))"
   ]
  },
  {
   "cell_type": "code",
   "execution_count": 48,
   "metadata": {},
   "outputs": [
    {
     "data": {
      "text/plain": [
       "<matplotlib.image.AxesImage at 0x7f0a2049f128>"
      ]
     },
     "execution_count": 48,
     "metadata": {},
     "output_type": "execute_result"
    },
    {
     "data": {
      "image/png": "[encoded data removed]",
      "text/plain": [
       "<matplotlib.figure.Figure at 0x7f0a20fb4898>"
      ]
     },
     "metadata": {},
     "output_type": "display_data"
    }
   ],
   "source": [
    "plt.imshow(z_2d.eval())"
   ]
  },
  {
   "cell_type": "code",
   "execution_count": null,
   "metadata": {
    "collapsed": true
   },
   "outputs": [],
   "source": []
  }
 ],
 "metadata": {
  "kernelspec": {
   "display_name": "Python 3",
   "language": "python",
   "name": "python3"
  },
  "language_info": {
   "codemirror_mode": {
    "name": "ipython",
    "version": 3
   },
   "file_extension": ".py",
   "mimetype": "text/x-python",
   "name": "python",
   "nbconvert_exporter": "python",
   "pygments_lexer": "ipython3",
   "version": "3.6.0"
  }
 },
 "nbformat": 4,
 "nbformat_minor": 2
}
